{
 "cells": [
  {
   "cell_type": "markdown",
   "id": "8b47f82a",
   "metadata": {},
   "source": [
    "# Data Science Notebook\n"
   ]
  },
  {
   "cell_type": "markdown",
   "id": "4deceea4",
   "metadata": {},
   "source": [
    "## Introduction\n",
    "This notebook provides an overview of key concepts, tools, and programming languages used in data science.\n"
   ]
  },
  {
   "cell_type": "markdown",
   "id": "729612d2",
   "metadata": {},
   "source": [
    "## Data Science Languages\n",
    "- Python  \n",
    "- R  \n",
    "- SQL  \n",
    "- Julia  \n",
    "- Scala  \n",
    "- Java  \n"
   ]
  },
  {
   "cell_type": "markdown",
   "id": "2c7dedf7",
   "metadata": {},
   "source": [
    "## Data Science Libraries\n",
    "- NumPy  \n",
    "- Pandas  \n",
    "- Matplotlib  \n",
    "- Seaborn  \n",
    "- Scikit-learn  \n",
    "- TensorFlow  \n",
    "- Keras  \n"
   ]
  },
  {
   "cell_type": "markdown",
   "id": "952c6efa",
   "metadata": {},
   "source": [
    "## Data Science Tools\n",
    "\n",
    "| Tool            | Category           |\n",
    "|-----------------|--------------------|\n",
    "| Jupyter Notebook| IDE/Environment    |\n",
    "| RStudio         | IDE/Environment    |\n",
    "| GitHub          | Version Control    |\n",
    "| Tableau         | Visualization      |\n",
    "| Apache Spark    | Big Data Processing|\n"
   ]
  },
  {
   "cell_type": "markdown",
   "id": "49ea3b5c",
   "metadata": {},
   "source": [
    "## Examples of Arithmetic Expressions\n",
    "Below are some examples of simple arithmetic operations like addition and multiplication.\n"
   ]
  },
  {
   "cell_type": "markdown",
   "id": "0d8746b6",
   "metadata": {},
   "source": [
    "# Multiply and add numbers\n",
    "result = (5 * 3) + 8\n",
    "print(\"The result is:\", result)\n"
   ]
  },
  {
   "cell_type": "markdown",
   "id": "2a84871c",
   "metadata": {},
   "source": [
    "# Convert minutes to hours\n",
    "minutes = 150\n",
    "hours = minutes / 60\n",
    "print(f\"{minutes} minutes is equal to {hours} hours\")\n"
   ]
  },
  {
   "cell_type": "markdown",
   "id": "4da149f2",
   "metadata": {},
   "source": [
    "## Objectives\n",
    "- Learn basic Markdown formatting  \n",
    "- Perform arithmetic operations in code  \n",
    "- Understand data science tools and libraries  \n",
    "- Practice using Jupyter Notebook  \n"
   ]
  },
  {
   "cell_type": "markdown",
   "id": "ce783859",
   "metadata": {},
   "source": [
    "**Author:** Sivaranjani\n"
   ]
  }
 ],
 "metadata": {
  "language_info": {
   "name": "python"
  }
 },
 "nbformat": 4,
 "nbformat_minor": 5
}
